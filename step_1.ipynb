{
 "cells": [
  {
   "cell_type": "code",
   "execution_count": 79,
   "id": "e3bfd419-b63f-4df7-84b0-93c680df3bbc",
   "metadata": {},
   "outputs": [],
   "source": [
    "import pandas as pd"
   ]
  },
  {
   "cell_type": "code",
   "execution_count": 80,
   "id": "19c893f0-b614-464b-8130-7f684613574c",
   "metadata": {},
   "outputs": [],
   "source": [
    "url_v = 'https://drive.google.com/file/d/1QosQQ4RRNR9rkL4t7sB707h2Uy0XfYJe/view'\n",
    "url_v = 'https://drive.google.com/uc?id=' + url_v.split('/')[-2]\n",
    "visits = pd.read_csv(url_v)\n",
    "visits.date = pd.to_datetime(visits.date)\n",
    "#visits.head()"
   ]
  },
  {
   "cell_type": "code",
   "execution_count": 81,
   "id": "0f266d68-ff33-49c3-8548-2d3572963dfd",
   "metadata": {},
   "outputs": [],
   "source": [
    "url_r = 'https://drive.google.com/file/d/1AeQz0kaSgz0lxYSDtuNm36muhy5fRCzZ/view'\n",
    "url_r = 'https://drive.google.com/uc?id=' + url_r.split('/')[-2]\n",
    "regs = pd.read_csv(url_r)\n",
    "regs.date = pd.to_datetime(regs.date)\n",
    "#regs.head()"
   ]
  },
  {
   "cell_type": "code",
   "execution_count": 82,
   "id": "2ae1d028-0b61-4483-8cef-5565a9314702",
   "metadata": {},
   "outputs": [],
   "source": [
    "visits = visits[(visits['date'] >= '2023-03-01') & (visits['date'] < '2023-09-01')]"
   ]
  },
  {
   "cell_type": "code",
   "execution_count": 83,
   "id": "b1c4447e-f909-4dab-ba6e-d3ac89a99587",
   "metadata": {},
   "outputs": [],
   "source": [
    "regs = regs[(regs['date'] >= '2023-03-01') & (regs['date'] < '2023-09-01')]\n",
    "#regs.head()"
   ]
  },
  {
   "cell_type": "code",
   "execution_count": 84,
   "id": "82a5f9ae-0458-4ccb-bbee-ce975d4b861b",
   "metadata": {},
   "outputs": [
    {
     "data": {
      "text/html": [
       "<div>\n",
       "<style scoped>\n",
       "    .dataframe tbody tr th:only-of-type {\n",
       "        vertical-align: middle;\n",
       "    }\n",
       "\n",
       "    .dataframe tbody tr th {\n",
       "        vertical-align: top;\n",
       "    }\n",
       "\n",
       "    .dataframe thead th {\n",
       "        text-align: right;\n",
       "    }\n",
       "</style>\n",
       "<table border=\"1\" class=\"dataframe\">\n",
       "  <thead>\n",
       "    <tr style=\"text-align: right;\">\n",
       "      <th></th>\n",
       "      <th>date</th>\n",
       "    </tr>\n",
       "  </thead>\n",
       "  <tbody>\n",
       "    <tr>\n",
       "      <th>count</th>\n",
       "      <td>1000</td>\n",
       "    </tr>\n",
       "    <tr>\n",
       "      <th>mean</th>\n",
       "      <td>2023-03-02 18:25:04.564000256</td>\n",
       "    </tr>\n",
       "    <tr>\n",
       "      <th>min</th>\n",
       "      <td>2023-03-01 00:05:35</td>\n",
       "    </tr>\n",
       "    <tr>\n",
       "      <th>25%</th>\n",
       "      <td>2023-03-01 12:02:27</td>\n",
       "    </tr>\n",
       "    <tr>\n",
       "      <th>50%</th>\n",
       "      <td>2023-03-01 23:28:04.500000</td>\n",
       "    </tr>\n",
       "    <tr>\n",
       "      <th>75%</th>\n",
       "      <td>2023-03-03 21:42:13.249999872</td>\n",
       "    </tr>\n",
       "    <tr>\n",
       "      <th>max</th>\n",
       "      <td>2023-03-07 23:05:08</td>\n",
       "    </tr>\n",
       "  </tbody>\n",
       "</table>\n",
       "</div>"
      ],
      "text/plain": [
       "                                date\n",
       "count                           1000\n",
       "mean   2023-03-02 18:25:04.564000256\n",
       "min              2023-03-01 00:05:35\n",
       "25%              2023-03-01 12:02:27\n",
       "50%       2023-03-01 23:28:04.500000\n",
       "75%    2023-03-03 21:42:13.249999872\n",
       "max              2023-03-07 23:05:08"
      ]
     },
     "execution_count": 84,
     "metadata": {},
     "output_type": "execute_result"
    }
   ],
   "source": [
    "visits.describe()"
   ]
  },
  {
   "cell_type": "code",
   "execution_count": 85,
   "id": "2ed3fe0f-3b3a-4ba8-8e1d-b7f984fde6ab",
   "metadata": {},
   "outputs": [
    {
     "data": {
      "text/html": [
       "<div>\n",
       "<style scoped>\n",
       "    .dataframe tbody tr th:only-of-type {\n",
       "        vertical-align: middle;\n",
       "    }\n",
       "\n",
       "    .dataframe tbody tr th {\n",
       "        vertical-align: top;\n",
       "    }\n",
       "\n",
       "    .dataframe thead th {\n",
       "        text-align: right;\n",
       "    }\n",
       "</style>\n",
       "<table border=\"1\" class=\"dataframe\">\n",
       "  <thead>\n",
       "    <tr style=\"text-align: right;\">\n",
       "      <th></th>\n",
       "      <th>date</th>\n",
       "      <th>user_id</th>\n",
       "    </tr>\n",
       "  </thead>\n",
       "  <tbody>\n",
       "    <tr>\n",
       "      <th>count</th>\n",
       "      <td>1000</td>\n",
       "      <td>1.000000e+03</td>\n",
       "    </tr>\n",
       "    <tr>\n",
       "      <th>mean</th>\n",
       "      <td>2023-03-03 10:59:03.900000</td>\n",
       "      <td>4.488623e+06</td>\n",
       "    </tr>\n",
       "    <tr>\n",
       "      <th>min</th>\n",
       "      <td>2023-03-01 00:12:22</td>\n",
       "      <td>2.236800e+04</td>\n",
       "    </tr>\n",
       "    <tr>\n",
       "      <th>25%</th>\n",
       "      <td>2023-03-02 14:08:57.500000</td>\n",
       "      <td>2.235489e+06</td>\n",
       "    </tr>\n",
       "    <tr>\n",
       "      <th>50%</th>\n",
       "      <td>2023-03-03 10:33:06</td>\n",
       "      <td>4.473044e+06</td>\n",
       "    </tr>\n",
       "    <tr>\n",
       "      <th>75%</th>\n",
       "      <td>2023-03-04 07:32:06.500000</td>\n",
       "      <td>6.779707e+06</td>\n",
       "    </tr>\n",
       "    <tr>\n",
       "      <th>max</th>\n",
       "      <td>2023-03-05 22:04:01</td>\n",
       "      <td>8.881772e+06</td>\n",
       "    </tr>\n",
       "    <tr>\n",
       "      <th>std</th>\n",
       "      <td>NaN</td>\n",
       "      <td>2.620568e+06</td>\n",
       "    </tr>\n",
       "  </tbody>\n",
       "</table>\n",
       "</div>"
      ],
      "text/plain": [
       "                             date       user_id\n",
       "count                        1000  1.000000e+03\n",
       "mean   2023-03-03 10:59:03.900000  4.488623e+06\n",
       "min           2023-03-01 00:12:22  2.236800e+04\n",
       "25%    2023-03-02 14:08:57.500000  2.235489e+06\n",
       "50%           2023-03-03 10:33:06  4.473044e+06\n",
       "75%    2023-03-04 07:32:06.500000  6.779707e+06\n",
       "max           2023-03-05 22:04:01  8.881772e+06\n",
       "std                           NaN  2.620568e+06"
      ]
     },
     "execution_count": 85,
     "metadata": {},
     "output_type": "execute_result"
    }
   ],
   "source": [
    "regs.describe()"
   ]
  },
  {
   "cell_type": "code",
   "execution_count": null,
   "id": "b2b30a7f-932b-412b-8fe7-98933247ee16",
   "metadata": {},
   "outputs": [],
   "source": []
  }
 ],
 "metadata": {
  "kernelspec": {
   "display_name": "Python 3 (ipykernel)",
   "language": "python",
   "name": "python3"
  },
  "language_info": {
   "codemirror_mode": {
    "name": "ipython",
    "version": 3
   },
   "file_extension": ".py",
   "mimetype": "text/x-python",
   "name": "python",
   "nbconvert_exporter": "python",
   "pygments_lexer": "ipython3",
   "version": "3.12.2"
  }
 },
 "nbformat": 4,
 "nbformat_minor": 5
}
