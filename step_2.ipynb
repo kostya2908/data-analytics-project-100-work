{
 "cells": [
  {
   "cell_type": "code",
   "execution_count": 49,
   "id": "69d80296-f0c7-4160-a78a-0b15a4126f84",
   "metadata": {},
   "outputs": [],
   "source": [
    "import requests\n",
    "import pandas as pd"
   ]
  },
  {
   "cell_type": "code",
   "execution_count": 50,
   "id": "307418b6-631e-4f81-baa8-51f2e0c9bb12",
   "metadata": {},
   "outputs": [],
   "source": [
    "r_v = requests.get('https://data-charts-api.hexlet.app/visits?begin=2023-03-01&end=2023-09-01')"
   ]
  },
  {
   "cell_type": "code",
   "execution_count": 57,
   "id": "0c04a5dd-8ab2-4521-a636-8c3913cbffcc",
   "metadata": {},
   "outputs": [
    {
     "data": {
      "text/html": [
       "<div>\n",
       "<style scoped>\n",
       "    .dataframe tbody tr th:only-of-type {\n",
       "        vertical-align: middle;\n",
       "    }\n",
       "\n",
       "    .dataframe tbody tr th {\n",
       "        vertical-align: top;\n",
       "    }\n",
       "\n",
       "    .dataframe thead th {\n",
       "        text-align: right;\n",
       "    }\n",
       "</style>\n",
       "<table border=\"1\" class=\"dataframe\">\n",
       "  <thead>\n",
       "    <tr style=\"text-align: right;\">\n",
       "      <th></th>\n",
       "      <th>datetime</th>\n",
       "      <th>platform</th>\n",
       "      <th>user_agent</th>\n",
       "      <th>visit_id</th>\n",
       "    </tr>\n",
       "  </thead>\n",
       "  <tbody>\n",
       "    <tr>\n",
       "      <th>0</th>\n",
       "      <td>Wed, 01 Mar 2023 10:36:22 GMT</td>\n",
       "      <td>web</td>\n",
       "      <td>Mozilla/5.0 (Windows NT 10.0; Win64; x64) Appl...</td>\n",
       "      <td>1de9ea66-70d3-4a1f-8735-df5ef7697fb9</td>\n",
       "    </tr>\n",
       "    <tr>\n",
       "      <th>1</th>\n",
       "      <td>Wed, 01 Mar 2023 06:25:00 GMT</td>\n",
       "      <td>web</td>\n",
       "      <td>Mozilla/5.0 (Windows NT 10.0; WOW64; Trident/7...</td>\n",
       "      <td>f149f542-e935-4870-9734-6b4501eaf614</td>\n",
       "    </tr>\n",
       "    <tr>\n",
       "      <th>2</th>\n",
       "      <td>Wed, 01 Mar 2023 10:26:13 GMT</td>\n",
       "      <td>web</td>\n",
       "      <td>Mozilla/5.0 (Macintosh; Intel Mac OS X 10_11_2...</td>\n",
       "      <td>08f0ebd4-950c-4dd9-8e97-b5bdf073eed1</td>\n",
       "    </tr>\n",
       "    <tr>\n",
       "      <th>3</th>\n",
       "      <td>Wed, 01 Mar 2023 12:33:06 GMT</td>\n",
       "      <td>web</td>\n",
       "      <td>Mozilla/5.0 (Macintosh; Intel Mac OS X 10_15_7...</td>\n",
       "      <td>19322fed-157c-49c6-b16e-2d5cabeb9592</td>\n",
       "    </tr>\n",
       "    <tr>\n",
       "      <th>4</th>\n",
       "      <td>Wed, 01 Mar 2023 01:38:35 GMT</td>\n",
       "      <td>web</td>\n",
       "      <td>Mozilla/5.0 (Windows NT 10.0; Win64; x64) Appl...</td>\n",
       "      <td>04762a22-3c9f-40c9-9ac9-6628c4381836</td>\n",
       "    </tr>\n",
       "  </tbody>\n",
       "</table>\n",
       "</div>"
      ],
      "text/plain": [
       "                        datetime platform  \\\n",
       "0  Wed, 01 Mar 2023 10:36:22 GMT      web   \n",
       "1  Wed, 01 Mar 2023 06:25:00 GMT      web   \n",
       "2  Wed, 01 Mar 2023 10:26:13 GMT      web   \n",
       "3  Wed, 01 Mar 2023 12:33:06 GMT      web   \n",
       "4  Wed, 01 Mar 2023 01:38:35 GMT      web   \n",
       "\n",
       "                                          user_agent  \\\n",
       "0  Mozilla/5.0 (Windows NT 10.0; Win64; x64) Appl...   \n",
       "1  Mozilla/5.0 (Windows NT 10.0; WOW64; Trident/7...   \n",
       "2  Mozilla/5.0 (Macintosh; Intel Mac OS X 10_11_2...   \n",
       "3  Mozilla/5.0 (Macintosh; Intel Mac OS X 10_15_7...   \n",
       "4  Mozilla/5.0 (Windows NT 10.0; Win64; x64) Appl...   \n",
       "\n",
       "                               visit_id  \n",
       "0  1de9ea66-70d3-4a1f-8735-df5ef7697fb9  \n",
       "1  f149f542-e935-4870-9734-6b4501eaf614  \n",
       "2  08f0ebd4-950c-4dd9-8e97-b5bdf073eed1  \n",
       "3  19322fed-157c-49c6-b16e-2d5cabeb9592  \n",
       "4  04762a22-3c9f-40c9-9ac9-6628c4381836  "
      ]
     },
     "execution_count": 57,
     "metadata": {},
     "output_type": "execute_result"
    }
   ],
   "source": [
    "visits = pd.DataFrame(r_v.json())\n",
    "visits.head()"
   ]
  },
  {
   "cell_type": "code",
   "execution_count": 52,
   "id": "fbeb024b-35ab-45da-9518-b4fae45e034f",
   "metadata": {},
   "outputs": [],
   "source": [
    "r_r = requests.get('https://data-charts-api.hexlet.app/registrations?begin=2023-03-01&end=2023-09-01')"
   ]
  },
  {
   "cell_type": "code",
   "execution_count": 58,
   "id": "fd90a51e-c1d1-41c5-bb4a-0fdcdfb8e64b",
   "metadata": {},
   "outputs": [
    {
     "data": {
      "text/html": [
       "<div>\n",
       "<style scoped>\n",
       "    .dataframe tbody tr th:only-of-type {\n",
       "        vertical-align: middle;\n",
       "    }\n",
       "\n",
       "    .dataframe tbody tr th {\n",
       "        vertical-align: top;\n",
       "    }\n",
       "\n",
       "    .dataframe thead th {\n",
       "        text-align: right;\n",
       "    }\n",
       "</style>\n",
       "<table border=\"1\" class=\"dataframe\">\n",
       "  <thead>\n",
       "    <tr style=\"text-align: right;\">\n",
       "      <th></th>\n",
       "      <th>datetime</th>\n",
       "      <th>email</th>\n",
       "      <th>platform</th>\n",
       "      <th>registration_type</th>\n",
       "      <th>user_id</th>\n",
       "    </tr>\n",
       "  </thead>\n",
       "  <tbody>\n",
       "    <tr>\n",
       "      <th>0</th>\n",
       "      <td>Wed, 01 Mar 2023 07:40:13 GMT</td>\n",
       "      <td>ebyrd@example.org</td>\n",
       "      <td>web</td>\n",
       "      <td>google</td>\n",
       "      <td>2e0f6bb8-b029-4f45-a786-2b53990d37f1</td>\n",
       "    </tr>\n",
       "    <tr>\n",
       "      <th>1</th>\n",
       "      <td>Wed, 01 Mar 2023 13:14:00 GMT</td>\n",
       "      <td>knightgerald@example.org</td>\n",
       "      <td>web</td>\n",
       "      <td>email</td>\n",
       "      <td>f007f97c-9d8b-48b5-af08-119bb8f6d9b6</td>\n",
       "    </tr>\n",
       "    <tr>\n",
       "      <th>2</th>\n",
       "      <td>Wed, 01 Mar 2023 03:05:50 GMT</td>\n",
       "      <td>cherylthompson@example.com</td>\n",
       "      <td>web</td>\n",
       "      <td>apple</td>\n",
       "      <td>24ff46ae-32b3-4a74-8f27-7cf0b8f32f15</td>\n",
       "    </tr>\n",
       "    <tr>\n",
       "      <th>3</th>\n",
       "      <td>Wed, 01 Mar 2023 00:04:47 GMT</td>\n",
       "      <td>halldavid@example.org</td>\n",
       "      <td>web</td>\n",
       "      <td>email</td>\n",
       "      <td>3e9914e1-5d73-4c23-b25d-b59a3aeb2b60</td>\n",
       "    </tr>\n",
       "    <tr>\n",
       "      <th>4</th>\n",
       "      <td>Wed, 01 Mar 2023 18:31:52 GMT</td>\n",
       "      <td>denise86@example.net</td>\n",
       "      <td>web</td>\n",
       "      <td>google</td>\n",
       "      <td>27f875fc-f8ce-4aeb-8722-0ecb283d0760</td>\n",
       "    </tr>\n",
       "  </tbody>\n",
       "</table>\n",
       "</div>"
      ],
      "text/plain": [
       "                        datetime                       email platform  \\\n",
       "0  Wed, 01 Mar 2023 07:40:13 GMT           ebyrd@example.org      web   \n",
       "1  Wed, 01 Mar 2023 13:14:00 GMT    knightgerald@example.org      web   \n",
       "2  Wed, 01 Mar 2023 03:05:50 GMT  cherylthompson@example.com      web   \n",
       "3  Wed, 01 Mar 2023 00:04:47 GMT       halldavid@example.org      web   \n",
       "4  Wed, 01 Mar 2023 18:31:52 GMT        denise86@example.net      web   \n",
       "\n",
       "  registration_type                               user_id  \n",
       "0            google  2e0f6bb8-b029-4f45-a786-2b53990d37f1  \n",
       "1             email  f007f97c-9d8b-48b5-af08-119bb8f6d9b6  \n",
       "2             apple  24ff46ae-32b3-4a74-8f27-7cf0b8f32f15  \n",
       "3             email  3e9914e1-5d73-4c23-b25d-b59a3aeb2b60  \n",
       "4            google  27f875fc-f8ce-4aeb-8722-0ecb283d0760  "
      ]
     },
     "execution_count": 58,
     "metadata": {},
     "output_type": "execute_result"
    }
   ],
   "source": [
    "registrations = pd.DataFrame(r_r.json())\n",
    "registrations.head()"
   ]
  },
  {
   "cell_type": "code",
   "execution_count": null,
   "id": "e74b94ce-557a-4fbe-aae2-bed12499a451",
   "metadata": {},
   "outputs": [],
   "source": []
  }
 ],
 "metadata": {
  "kernelspec": {
   "display_name": "Python 3 (ipykernel)",
   "language": "python",
   "name": "python3"
  },
  "language_info": {
   "codemirror_mode": {
    "name": "ipython",
    "version": 3
   },
   "file_extension": ".py",
   "mimetype": "text/x-python",
   "name": "python",
   "nbconvert_exporter": "python",
   "pygments_lexer": "ipython3",
   "version": "3.12.2"
  }
 },
 "nbformat": 4,
 "nbformat_minor": 5
}
