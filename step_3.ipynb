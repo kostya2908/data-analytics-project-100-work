{
 "cells": [
  {
   "cell_type": "code",
   "execution_count": 1,
   "id": "69d80296-f0c7-4160-a78a-0b15a4126f84",
   "metadata": {},
   "outputs": [],
   "source": [
    "import requests\n",
    "import pandas as pd"
   ]
  },
  {
   "cell_type": "code",
   "execution_count": 2,
   "id": "307418b6-631e-4f81-baa8-51f2e0c9bb12",
   "metadata": {},
   "outputs": [
    {
     "data": {
      "text/plain": [
       "263459"
      ]
     },
     "execution_count": 2,
     "metadata": {},
     "output_type": "execute_result"
    }
   ],
   "source": [
    "r_v = requests.get('https://data-charts-api.hexlet.app/visits?begin=2023-03-01&end=2023-09-01')\n",
    "visits = pd.DataFrame(r_v.json())\n",
    "len(visits)"
   ]
  },
  {
   "cell_type": "markdown",
   "id": "fd493551-b499-4658-a1ff-47a2eaba5588",
   "metadata": {},
   "source": [
    "<h3>Удаление ботов из визитов:</h3>"
   ]
  },
  {
   "cell_type": "code",
   "execution_count": 3,
   "id": "306af76f-9e3b-4294-b518-7d14767d9702",
   "metadata": {},
   "outputs": [
    {
     "data": {
      "text/html": [
       "<div>\n",
       "<style scoped>\n",
       "    .dataframe tbody tr th:only-of-type {\n",
       "        vertical-align: middle;\n",
       "    }\n",
       "\n",
       "    .dataframe tbody tr th {\n",
       "        vertical-align: top;\n",
       "    }\n",
       "\n",
       "    .dataframe thead th {\n",
       "        text-align: right;\n",
       "    }\n",
       "</style>\n",
       "<table border=\"1\" class=\"dataframe\">\n",
       "  <thead>\n",
       "    <tr style=\"text-align: right;\">\n",
       "      <th></th>\n",
       "      <th>datetime</th>\n",
       "      <th>platform</th>\n",
       "      <th>user_agent</th>\n",
       "      <th>visit_id</th>\n",
       "    </tr>\n",
       "  </thead>\n",
       "  <tbody>\n",
       "    <tr>\n",
       "      <th>0</th>\n",
       "      <td>Wed, 01 Mar 2023 10:36:22 GMT</td>\n",
       "      <td>web</td>\n",
       "      <td>Mozilla/5.0 (Windows NT 10.0; Win64; x64) Appl...</td>\n",
       "      <td>1de9ea66-70d3-4a1f-8735-df5ef7697fb9</td>\n",
       "    </tr>\n",
       "    <tr>\n",
       "      <th>1</th>\n",
       "      <td>Wed, 01 Mar 2023 06:25:00 GMT</td>\n",
       "      <td>web</td>\n",
       "      <td>Mozilla/5.0 (Windows NT 10.0; WOW64; Trident/7...</td>\n",
       "      <td>f149f542-e935-4870-9734-6b4501eaf614</td>\n",
       "    </tr>\n",
       "    <tr>\n",
       "      <th>2</th>\n",
       "      <td>Wed, 01 Mar 2023 10:26:13 GMT</td>\n",
       "      <td>web</td>\n",
       "      <td>Mozilla/5.0 (Macintosh; Intel Mac OS X 10_11_2...</td>\n",
       "      <td>08f0ebd4-950c-4dd9-8e97-b5bdf073eed1</td>\n",
       "    </tr>\n",
       "    <tr>\n",
       "      <th>3</th>\n",
       "      <td>Wed, 01 Mar 2023 12:33:06 GMT</td>\n",
       "      <td>web</td>\n",
       "      <td>Mozilla/5.0 (Macintosh; Intel Mac OS X 10_15_7...</td>\n",
       "      <td>19322fed-157c-49c6-b16e-2d5cabeb9592</td>\n",
       "    </tr>\n",
       "    <tr>\n",
       "      <th>4</th>\n",
       "      <td>Wed, 01 Mar 2023 01:38:35 GMT</td>\n",
       "      <td>web</td>\n",
       "      <td>Mozilla/5.0 (Windows NT 10.0; Win64; x64) Appl...</td>\n",
       "      <td>04762a22-3c9f-40c9-9ac9-6628c4381836</td>\n",
       "    </tr>\n",
       "  </tbody>\n",
       "</table>\n",
       "</div>"
      ],
      "text/plain": [
       "                        datetime platform  \\\n",
       "0  Wed, 01 Mar 2023 10:36:22 GMT      web   \n",
       "1  Wed, 01 Mar 2023 06:25:00 GMT      web   \n",
       "2  Wed, 01 Mar 2023 10:26:13 GMT      web   \n",
       "3  Wed, 01 Mar 2023 12:33:06 GMT      web   \n",
       "4  Wed, 01 Mar 2023 01:38:35 GMT      web   \n",
       "\n",
       "                                          user_agent  \\\n",
       "0  Mozilla/5.0 (Windows NT 10.0; Win64; x64) Appl...   \n",
       "1  Mozilla/5.0 (Windows NT 10.0; WOW64; Trident/7...   \n",
       "2  Mozilla/5.0 (Macintosh; Intel Mac OS X 10_11_2...   \n",
       "3  Mozilla/5.0 (Macintosh; Intel Mac OS X 10_15_7...   \n",
       "4  Mozilla/5.0 (Windows NT 10.0; Win64; x64) Appl...   \n",
       "\n",
       "                               visit_id  \n",
       "0  1de9ea66-70d3-4a1f-8735-df5ef7697fb9  \n",
       "1  f149f542-e935-4870-9734-6b4501eaf614  \n",
       "2  08f0ebd4-950c-4dd9-8e97-b5bdf073eed1  \n",
       "3  19322fed-157c-49c6-b16e-2d5cabeb9592  \n",
       "4  04762a22-3c9f-40c9-9ac9-6628c4381836  "
      ]
     },
     "execution_count": 3,
     "metadata": {},
     "output_type": "execute_result"
    }
   ],
   "source": [
    "def get_humans(x):\n",
    "    if 'bot' in x.lower():\n",
    "        return 'bot'\n",
    "    else:\n",
    "        return 'human'\n",
    "\n",
    "visits['human_or_bot'] = visits['user_agent'].apply(lambda x: get_humans(x))\n",
    "visits = visits[visits['human_or_bot'] == 'human'].drop(['human_or_bot'], axis=1)\n",
    "visits.head()"
   ]
  },
  {
   "cell_type": "code",
   "execution_count": 4,
   "id": "c3f2e155-6d09-4506-89c8-3e15d1bc8cfc",
   "metadata": {},
   "outputs": [
    {
     "data": {
      "text/plain": [
       "256077"
      ]
     },
     "execution_count": 4,
     "metadata": {},
     "output_type": "execute_result"
    }
   ],
   "source": [
    "len(visits)"
   ]
  },
  {
   "cell_type": "markdown",
   "id": "2f5eeb13-7c3d-462c-ac01-11d639a5c643",
   "metadata": {},
   "source": [
    "<h3>Преобразование в Datetime, фильтрация только последних визитов, приведение datetime к date:</h3>"
   ]
  },
  {
   "cell_type": "code",
   "execution_count": 5,
   "id": "041414d9-60bd-4d03-97bc-36db946036ef",
   "metadata": {},
   "outputs": [],
   "source": [
    "visits['datetime'] = pd.to_datetime(visits['datetime'])#.dt.date\n",
    "visits['visit_no'] = visits.groupby('visit_id').ngroup()\n",
    "#visits.head()"
   ]
  },
  {
   "cell_type": "code",
   "execution_count": 6,
   "id": "475aec99-71c8-46c2-bf37-5c435e2caff0",
   "metadata": {},
   "outputs": [
    {
     "data": {
      "text/plain": [
       "256077"
      ]
     },
     "execution_count": 6,
     "metadata": {},
     "output_type": "execute_result"
    }
   ],
   "source": [
    "len(visits)"
   ]
  },
  {
   "cell_type": "code",
   "execution_count": 7,
   "id": "69ac0bba-fdc5-4ddd-be97-59ba13e4e660",
   "metadata": {},
   "outputs": [],
   "source": [
    "visits = visits.sort_values(by=['visit_id', 'datetime'], ascending=[True, False]).reset_index(drop=True)\n",
    "#visits.head()"
   ]
  },
  {
   "cell_type": "raw",
   "id": "e54017f3-a5d8-4eeb-a39b-6e674c6125e3",
   "metadata": {},
   "source": [
    "Testing of deletion:\n",
    "print(visits[visits['visit_no'] == 113])"
   ]
  },
  {
   "cell_type": "raw",
   "id": "66b93872-8c82-43a2-9e3a-eee868da3300",
   "metadata": {},
   "source": [
    "len(visits)"
   ]
  },
  {
   "cell_type": "code",
   "execution_count": 8,
   "id": "69fd4cd1-4f09-4173-ba75-d3b7b5216784",
   "metadata": {},
   "outputs": [
    {
     "data": {
      "text/html": [
       "<div>\n",
       "<style scoped>\n",
       "    .dataframe tbody tr th:only-of-type {\n",
       "        vertical-align: middle;\n",
       "    }\n",
       "\n",
       "    .dataframe tbody tr th {\n",
       "        vertical-align: top;\n",
       "    }\n",
       "\n",
       "    .dataframe thead th {\n",
       "        text-align: right;\n",
       "    }\n",
       "</style>\n",
       "<table border=\"1\" class=\"dataframe\">\n",
       "  <thead>\n",
       "    <tr style=\"text-align: right;\">\n",
       "      <th></th>\n",
       "      <th>datetime</th>\n",
       "      <th>platform</th>\n",
       "      <th>user_agent</th>\n",
       "      <th>visit_id</th>\n",
       "      <th>visit_no</th>\n",
       "    </tr>\n",
       "  </thead>\n",
       "  <tbody>\n",
       "    <tr>\n",
       "      <th>0</th>\n",
       "      <td>2023-06-06 20:32:30</td>\n",
       "      <td>android</td>\n",
       "      <td>Mozilla/5.0 (Linux; Android 10; K) AppleWebKit...</td>\n",
       "      <td>000012d3-f8c7-4257-8999-ad622b703492</td>\n",
       "      <td>0</td>\n",
       "    </tr>\n",
       "    <tr>\n",
       "      <th>1</th>\n",
       "      <td>2023-08-16 11:36:01</td>\n",
       "      <td>web</td>\n",
       "      <td>Mozilla/5.0 (X11; Ubuntu; Linux x86_64; rv:109...</td>\n",
       "      <td>0000164b-36eb-409a-8ab4-4acc25e5f3de</td>\n",
       "      <td>1</td>\n",
       "    </tr>\n",
       "    <tr>\n",
       "      <th>2</th>\n",
       "      <td>2023-07-02 18:49:04</td>\n",
       "      <td>web</td>\n",
       "      <td>Mozilla/5.0 (Windows NT 10.0; Win64; x64) Appl...</td>\n",
       "      <td>0000190e-e494-4fe1-876f-0dc2b4e1be1c</td>\n",
       "      <td>2</td>\n",
       "    </tr>\n",
       "    <tr>\n",
       "      <th>3</th>\n",
       "      <td>2023-08-29 20:14:40</td>\n",
       "      <td>web</td>\n",
       "      <td>Mozilla/5.0 (Windows NT 10.0; Win64; x64; rv:1...</td>\n",
       "      <td>000063a2-6a6c-466a-b7e5-781568668a6b</td>\n",
       "      <td>3</td>\n",
       "    </tr>\n",
       "    <tr>\n",
       "      <th>4</th>\n",
       "      <td>2023-07-02 07:20:46</td>\n",
       "      <td>web</td>\n",
       "      <td>Mozilla/5.0 (Windows NT 10.0; Win64; x64; rv:1...</td>\n",
       "      <td>0000b829-7f90-4a38-b831-9b314ecfd8b5</td>\n",
       "      <td>4</td>\n",
       "    </tr>\n",
       "    <tr>\n",
       "      <th>...</th>\n",
       "      <td>...</td>\n",
       "      <td>...</td>\n",
       "      <td>...</td>\n",
       "      <td>...</td>\n",
       "      <td>...</td>\n",
       "    </tr>\n",
       "    <tr>\n",
       "      <th>95</th>\n",
       "      <td>2023-08-29 13:37:54</td>\n",
       "      <td>web</td>\n",
       "      <td>Mozilla/5.0 (Macintosh; Intel Mac OS X 10_11_2...</td>\n",
       "      <td>002da215-4b99-419e-90c0-a75f19d7e56e</td>\n",
       "      <td>95</td>\n",
       "    </tr>\n",
       "    <tr>\n",
       "      <th>96</th>\n",
       "      <td>2023-08-16 04:12:49</td>\n",
       "      <td>web</td>\n",
       "      <td>Mozilla/5.0 (Windows NT 10.0; Win64; x64) Appl...</td>\n",
       "      <td>002e524a-8ff2-4415-86c4-2f387dbf9b9f</td>\n",
       "      <td>96</td>\n",
       "    </tr>\n",
       "    <tr>\n",
       "      <th>97</th>\n",
       "      <td>2023-06-07 06:28:52</td>\n",
       "      <td>web</td>\n",
       "      <td>Mozilla/5.0 (Windows NT 10.0; WOW64; Trident/7...</td>\n",
       "      <td>002fc733-502f-42c4-8c5a-677ae8ac4c6d</td>\n",
       "      <td>97</td>\n",
       "    </tr>\n",
       "    <tr>\n",
       "      <th>98</th>\n",
       "      <td>2023-04-22 22:41:01</td>\n",
       "      <td>web</td>\n",
       "      <td>Mozilla/5.0 (X11; Ubuntu; Linux x86_64; rv:109...</td>\n",
       "      <td>00306f2a-0e95-4665-98c5-f6e2c478a59a</td>\n",
       "      <td>98</td>\n",
       "    </tr>\n",
       "    <tr>\n",
       "      <th>99</th>\n",
       "      <td>2023-03-08 14:04:49</td>\n",
       "      <td>web</td>\n",
       "      <td>Mozilla/5.0 (X11; Ubuntu; Linux x86_64; rv:109...</td>\n",
       "      <td>003097ec-2582-4dbf-9101-eec792c6b18b</td>\n",
       "      <td>99</td>\n",
       "    </tr>\n",
       "  </tbody>\n",
       "</table>\n",
       "<p>100 rows × 5 columns</p>\n",
       "</div>"
      ],
      "text/plain": [
       "              datetime platform  \\\n",
       "0  2023-06-06 20:32:30  android   \n",
       "1  2023-08-16 11:36:01      web   \n",
       "2  2023-07-02 18:49:04      web   \n",
       "3  2023-08-29 20:14:40      web   \n",
       "4  2023-07-02 07:20:46      web   \n",
       "..                 ...      ...   \n",
       "95 2023-08-29 13:37:54      web   \n",
       "96 2023-08-16 04:12:49      web   \n",
       "97 2023-06-07 06:28:52      web   \n",
       "98 2023-04-22 22:41:01      web   \n",
       "99 2023-03-08 14:04:49      web   \n",
       "\n",
       "                                           user_agent  \\\n",
       "0   Mozilla/5.0 (Linux; Android 10; K) AppleWebKit...   \n",
       "1   Mozilla/5.0 (X11; Ubuntu; Linux x86_64; rv:109...   \n",
       "2   Mozilla/5.0 (Windows NT 10.0; Win64; x64) Appl...   \n",
       "3   Mozilla/5.0 (Windows NT 10.0; Win64; x64; rv:1...   \n",
       "4   Mozilla/5.0 (Windows NT 10.0; Win64; x64; rv:1...   \n",
       "..                                                ...   \n",
       "95  Mozilla/5.0 (Macintosh; Intel Mac OS X 10_11_2...   \n",
       "96  Mozilla/5.0 (Windows NT 10.0; Win64; x64) Appl...   \n",
       "97  Mozilla/5.0 (Windows NT 10.0; WOW64; Trident/7...   \n",
       "98  Mozilla/5.0 (X11; Ubuntu; Linux x86_64; rv:109...   \n",
       "99  Mozilla/5.0 (X11; Ubuntu; Linux x86_64; rv:109...   \n",
       "\n",
       "                                visit_id  visit_no  \n",
       "0   000012d3-f8c7-4257-8999-ad622b703492         0  \n",
       "1   0000164b-36eb-409a-8ab4-4acc25e5f3de         1  \n",
       "2   0000190e-e494-4fe1-876f-0dc2b4e1be1c         2  \n",
       "3   000063a2-6a6c-466a-b7e5-781568668a6b         3  \n",
       "4   0000b829-7f90-4a38-b831-9b314ecfd8b5         4  \n",
       "..                                   ...       ...  \n",
       "95  002da215-4b99-419e-90c0-a75f19d7e56e        95  \n",
       "96  002e524a-8ff2-4415-86c4-2f387dbf9b9f        96  \n",
       "97  002fc733-502f-42c4-8c5a-677ae8ac4c6d        97  \n",
       "98  00306f2a-0e95-4665-98c5-f6e2c478a59a        98  \n",
       "99  003097ec-2582-4dbf-9101-eec792c6b18b        99  \n",
       "\n",
       "[100 rows x 5 columns]"
      ]
     },
     "execution_count": 8,
     "metadata": {},
     "output_type": "execute_result"
    }
   ],
   "source": [
    "visits = visits.groupby(['visit_id']).head(1).reset_index(drop=True)\n",
    "visits.head(100)"
   ]
  },
  {
   "cell_type": "raw",
   "id": "74f65c70-8b7a-4c6c-a920-35756776f807",
   "metadata": {},
   "source": [
    "Testing of deletion:\n",
    "print(visits[visits['visit_no'] == 113])"
   ]
  },
  {
   "cell_type": "raw",
   "id": "f3d3c16b-85df-490a-a1db-9865b5ada6fd",
   "metadata": {},
   "source": [
    "len(visits)"
   ]
  },
  {
   "cell_type": "code",
   "execution_count": 10,
   "id": "e9b5a8ae-e552-433c-abe6-a2d65d787110",
   "metadata": {},
   "outputs": [
    {
     "ename": "AttributeError",
     "evalue": "Can only use .dt accessor with datetimelike values",
     "output_type": "error",
     "traceback": [
      "\u001b[0;31m---------------------------------------------------------------------------\u001b[0m",
      "\u001b[0;31mAttributeError\u001b[0m                            Traceback (most recent call last)",
      "Cell \u001b[0;32mIn[10], line 1\u001b[0m\n\u001b[0;32m----> 1\u001b[0m visits[\u001b[38;5;124m'\u001b[39m\u001b[38;5;124mdatetime\u001b[39m\u001b[38;5;124m'\u001b[39m] \u001b[38;5;241m=\u001b[39m visits[\u001b[38;5;124m'\u001b[39m\u001b[38;5;124mdatetime\u001b[39m\u001b[38;5;124m'\u001b[39m]\u001b[38;5;241m.\u001b[39mdt\u001b[38;5;241m.\u001b[39mdate\n\u001b[1;32m      2\u001b[0m visits \u001b[38;5;241m=\u001b[39m visits\u001b[38;5;241m.\u001b[39msort_values(by\u001b[38;5;241m=\u001b[39m\u001b[38;5;124m'\u001b[39m\u001b[38;5;124mdatetime\u001b[39m\u001b[38;5;124m'\u001b[39m, ascending\u001b[38;5;241m=\u001b[39m\u001b[38;5;28;01mTrue\u001b[39;00m)\u001b[38;5;241m.\u001b[39mreset_index(drop\u001b[38;5;241m=\u001b[39m\u001b[38;5;28;01mTrue\u001b[39;00m)\n\u001b[1;32m      3\u001b[0m visits\u001b[38;5;241m.\u001b[39mhead()\n",
      "File \u001b[0;32m~/anaconda3/envs/dap100/lib/python3.12/site-packages/pandas/core/generic.py:6296\u001b[0m, in \u001b[0;36mNDFrame.__getattr__\u001b[0;34m(self, name)\u001b[0m\n\u001b[1;32m   6289\u001b[0m \u001b[38;5;28;01mif\u001b[39;00m (\n\u001b[1;32m   6290\u001b[0m     name \u001b[38;5;129;01mnot\u001b[39;00m \u001b[38;5;129;01min\u001b[39;00m \u001b[38;5;28mself\u001b[39m\u001b[38;5;241m.\u001b[39m_internal_names_set\n\u001b[1;32m   6291\u001b[0m     \u001b[38;5;129;01mand\u001b[39;00m name \u001b[38;5;129;01mnot\u001b[39;00m \u001b[38;5;129;01min\u001b[39;00m \u001b[38;5;28mself\u001b[39m\u001b[38;5;241m.\u001b[39m_metadata\n\u001b[1;32m   6292\u001b[0m     \u001b[38;5;129;01mand\u001b[39;00m name \u001b[38;5;129;01mnot\u001b[39;00m \u001b[38;5;129;01min\u001b[39;00m \u001b[38;5;28mself\u001b[39m\u001b[38;5;241m.\u001b[39m_accessors\n\u001b[1;32m   6293\u001b[0m     \u001b[38;5;129;01mand\u001b[39;00m \u001b[38;5;28mself\u001b[39m\u001b[38;5;241m.\u001b[39m_info_axis\u001b[38;5;241m.\u001b[39m_can_hold_identifiers_and_holds_name(name)\n\u001b[1;32m   6294\u001b[0m ):\n\u001b[1;32m   6295\u001b[0m     \u001b[38;5;28;01mreturn\u001b[39;00m \u001b[38;5;28mself\u001b[39m[name]\n\u001b[0;32m-> 6296\u001b[0m \u001b[38;5;28;01mreturn\u001b[39;00m \u001b[38;5;28mobject\u001b[39m\u001b[38;5;241m.\u001b[39m\u001b[38;5;21m__getattribute__\u001b[39m(\u001b[38;5;28mself\u001b[39m, name)\n",
      "File \u001b[0;32m~/anaconda3/envs/dap100/lib/python3.12/site-packages/pandas/core/accessor.py:224\u001b[0m, in \u001b[0;36mCachedAccessor.__get__\u001b[0;34m(self, obj, cls)\u001b[0m\n\u001b[1;32m    221\u001b[0m \u001b[38;5;28;01mif\u001b[39;00m obj \u001b[38;5;129;01mis\u001b[39;00m \u001b[38;5;28;01mNone\u001b[39;00m:\n\u001b[1;32m    222\u001b[0m     \u001b[38;5;66;03m# we're accessing the attribute of the class, i.e., Dataset.geo\u001b[39;00m\n\u001b[1;32m    223\u001b[0m     \u001b[38;5;28;01mreturn\u001b[39;00m \u001b[38;5;28mself\u001b[39m\u001b[38;5;241m.\u001b[39m_accessor\n\u001b[0;32m--> 224\u001b[0m accessor_obj \u001b[38;5;241m=\u001b[39m \u001b[38;5;28mself\u001b[39m\u001b[38;5;241m.\u001b[39m_accessor(obj)\n\u001b[1;32m    225\u001b[0m \u001b[38;5;66;03m# Replace the property with the accessor object. Inspired by:\u001b[39;00m\n\u001b[1;32m    226\u001b[0m \u001b[38;5;66;03m# https://www.pydanny.com/cached-property.html\u001b[39;00m\n\u001b[1;32m    227\u001b[0m \u001b[38;5;66;03m# We need to use object.__setattr__ because we overwrite __setattr__ on\u001b[39;00m\n\u001b[1;32m    228\u001b[0m \u001b[38;5;66;03m# NDFrame\u001b[39;00m\n\u001b[1;32m    229\u001b[0m \u001b[38;5;28mobject\u001b[39m\u001b[38;5;241m.\u001b[39m\u001b[38;5;21m__setattr__\u001b[39m(obj, \u001b[38;5;28mself\u001b[39m\u001b[38;5;241m.\u001b[39m_name, accessor_obj)\n",
      "File \u001b[0;32m~/anaconda3/envs/dap100/lib/python3.12/site-packages/pandas/core/indexes/accessors.py:643\u001b[0m, in \u001b[0;36mCombinedDatetimelikeProperties.__new__\u001b[0;34m(cls, data)\u001b[0m\n\u001b[1;32m    640\u001b[0m \u001b[38;5;28;01melif\u001b[39;00m \u001b[38;5;28misinstance\u001b[39m(data\u001b[38;5;241m.\u001b[39mdtype, PeriodDtype):\n\u001b[1;32m    641\u001b[0m     \u001b[38;5;28;01mreturn\u001b[39;00m PeriodProperties(data, orig)\n\u001b[0;32m--> 643\u001b[0m \u001b[38;5;28;01mraise\u001b[39;00m \u001b[38;5;167;01mAttributeError\u001b[39;00m(\u001b[38;5;124m\"\u001b[39m\u001b[38;5;124mCan only use .dt accessor with datetimelike values\u001b[39m\u001b[38;5;124m\"\u001b[39m)\n",
      "\u001b[0;31mAttributeError\u001b[0m: Can only use .dt accessor with datetimelike values"
     ]
    }
   ],
   "source": [
    "visits['datetime'] = visits['datetime'].dt.date\n",
    "visits = visits.sort_values(by='datetime', ascending=True).reset_index(drop=True)\n",
    "visits.head()"
   ]
  },
  {
   "cell_type": "raw",
   "id": "2a61495e-d4e0-4ae9-b133-12c6ca190a5f",
   "metadata": {},
   "source": [
    "r_r = requests.get('https://data-charts-api.hexlet.app/registrations?begin=2023-03-01&end=2023-09-01')\n",
    "registrations = pd.DataFrame(r_r.json())"
   ]
  },
  {
   "cell_type": "code",
   "execution_count": null,
   "id": "7dcb74da-9036-41c7-bfef-c1a9057295a0",
   "metadata": {},
   "outputs": [],
   "source": []
  }
 ],
 "metadata": {
  "kernelspec": {
   "display_name": "Python 3 (ipykernel)",
   "language": "python",
   "name": "python3"
  },
  "language_info": {
   "codemirror_mode": {
    "name": "ipython",
    "version": 3
   },
   "file_extension": ".py",
   "mimetype": "text/x-python",
   "name": "python",
   "nbconvert_exporter": "python",
   "pygments_lexer": "ipython3",
   "version": "3.12.2"
  }
 },
 "nbformat": 4,
 "nbformat_minor": 5
}
